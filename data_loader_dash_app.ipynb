{
 "cells": [
  {
   "cell_type": "code",
   "execution_count": 8,
   "metadata": {},
   "outputs": [],
   "source": [
    "import pandas as pd\n",
    "from pandas_datareader import data as web\n",
    "\n",
    "from datetime import datetime as dt\n",
    "import datetime\n",
    "import time\n",
    "\n",
    "import numpy as np"
   ]
  },
  {
   "cell_type": "code",
   "execution_count": 10,
   "metadata": {},
   "outputs": [
    {
     "data": {
      "text/html": [
       "<div>\n",
       "<style scoped>\n",
       "    .dataframe tbody tr th:only-of-type {\n",
       "        vertical-align: middle;\n",
       "    }\n",
       "\n",
       "    .dataframe tbody tr th {\n",
       "        vertical-align: top;\n",
       "    }\n",
       "\n",
       "    .dataframe thead th {\n",
       "        text-align: right;\n",
       "    }\n",
       "</style>\n",
       "<table border=\"1\" class=\"dataframe\">\n",
       "  <thead>\n",
       "    <tr style=\"text-align: right;\">\n",
       "      <th></th>\n",
       "      <th>date</th>\n",
       "      <th>Sales</th>\n",
       "    </tr>\n",
       "  </thead>\n",
       "  <tbody>\n",
       "    <tr>\n",
       "      <th>0</th>\n",
       "      <td>2010-12-31 14:51:07.577400</td>\n",
       "      <td>44</td>\n",
       "    </tr>\n",
       "    <tr>\n",
       "      <th>1</th>\n",
       "      <td>2011-01-31 14:51:07.577400</td>\n",
       "      <td>47</td>\n",
       "    </tr>\n",
       "    <tr>\n",
       "      <th>2</th>\n",
       "      <td>2011-02-28 14:51:07.577400</td>\n",
       "      <td>64</td>\n",
       "    </tr>\n",
       "    <tr>\n",
       "      <th>3</th>\n",
       "      <td>2011-03-31 14:51:07.577400</td>\n",
       "      <td>67</td>\n",
       "    </tr>\n",
       "    <tr>\n",
       "      <th>4</th>\n",
       "      <td>2011-04-30 14:51:07.577400</td>\n",
       "      <td>67</td>\n",
       "    </tr>\n",
       "  </tbody>\n",
       "</table>\n",
       "</div>"
      ],
      "text/plain": [
       "                        date  Sales\n",
       "0 2010-12-31 14:51:07.577400     44\n",
       "1 2011-01-31 14:51:07.577400     47\n",
       "2 2011-02-28 14:51:07.577400     64\n",
       "3 2011-03-31 14:51:07.577400     67\n",
       "4 2011-04-30 14:51:07.577400     67"
      ]
     },
     "execution_count": 10,
     "metadata": {},
     "output_type": "execute_result"
    }
   ],
   "source": [
    "np.random.seed(0)\n",
    "# установим начальную дату наблюдения (сегодня) \n",
    "# установим период наблюедния =365 дней\n",
    "# вычислим начальную точку наблюдения start_date\n",
    "Time_view = 10\n",
    "end_date = dt.today()\n",
    "delta = datetime.timedelta(days = 365 * Time_view)\n",
    "start_date = end_date - delta\n",
    "# print('Start_date:', start_date)\n",
    "# print('End_date:', end_date)\n",
    "# datetime.strptime(\"2015-08-10 19:33:27.653\", \"%Y-%m-%d %H:%M:%S.%f\")\n",
    "# str_today = str(dt.today().year) + '-' + str(dt.today().month) + '-' + str(dt.today().day)\n",
    "rng = pd.date_range(start_date, periods = int(delta.days) // 30, freq = 'm')\n",
    "data = pd.DataFrame({'date': rng, 'Sales': np.random.randint(0, 100, len(rng))})\n",
    "data.head()"
   ]
  },
  {
   "cell_type": "code",
   "execution_count": null,
   "metadata": {},
   "outputs": [],
   "source": []
  }
 ],
 "metadata": {
  "kernelspec": {
   "display_name": "Python 3",
   "language": "python",
   "name": "python3"
  },
  "language_info": {
   "codemirror_mode": {
    "name": "ipython",
    "version": 3
   },
   "file_extension": ".py",
   "mimetype": "text/x-python",
   "name": "python",
   "nbconvert_exporter": "python",
   "pygments_lexer": "ipython3",
   "version": "3.7.9"
  }
 },
 "nbformat": 4,
 "nbformat_minor": 4
}
